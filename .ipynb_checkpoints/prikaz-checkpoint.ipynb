{
 "cells": [
  {
   "cell_type": "code",
   "execution_count": null,
   "metadata": {},
   "outputs": [],
   "source": [
    "from helper import play_animation\n",
    "from q_learning import train_q_learning\n",
    "from policy_iteration import policy_iteration\n",
    "from value_iteration import value_iteration\n",
    "import gym\n",
    "\n",
    "# Izracunamo vrednosti Q tabele za Q Learning Algorithm\n",
    "q_table = train_q_learning(20000)\n",
    "\n",
    "# Izracunamo politiko za Policy Iterations Algorithm\n",
    "policy_it, _ = policy_iteration()\n",
    "\n",
    "# Izracunamo politiko za Policy Value Algorithm\n",
    "policy_val, _ = value_iteration()"
   ]
  },
  {
   "cell_type": "code",
   "execution_count": null,
   "metadata": {},
   "outputs": [],
   "source": [
    "from without_rl import without_reinforcement_learning\n",
    "\n",
    "# Without reinforcement learning\n",
    "f, t, p, r = without_reinforcement_learning() \n",
    "play_animation(f, 0.1)\n",
    "print (\"\")\n",
    "print (\"Stevilo korakov: \", t)\n",
    "print (\"Stevilo kazni: \", p)\n",
    "print (\"Skupna koncna nagrada\", r)\n",
    "print (\"Nagrada na korak: \", r/t)"
   ]
  },
  {
   "cell_type": "code",
   "execution_count": null,
   "metadata": {},
   "outputs": [],
   "source": [
    "from q_learning import q_learning\n",
    "\n",
    "# Q learning\n",
    "f, t, p, r = q_learning(q_table)\n",
    "play_animation(f, 1)\n",
    "print (\"\")\n",
    "print (\"Stevilo korakov: \", t)\n",
    "print (\"Stevilo kazni: \", p)\n",
    "print (\"Skupna koncna nagrada: \", r)\n",
    "print (\"Nagrada na korak: \", r/t)"
   ]
  },
  {
   "cell_type": "code",
   "execution_count": null,
   "metadata": {},
   "outputs": [],
   "source": [
    "from policy_iteration import policy_iteration_algorithm\n",
    "\n",
    "# Policy iteration\n",
    "f, t, p, r = policy_iteration_algorithm(policy_it)\n",
    "play_animation(f, 1)\n",
    "print (\"\")\n",
    "print (\"Stevilo korakov: \", t)\n",
    "print (\"Stevilo kazni: \", p)\n",
    "print (\"Skupna koncna nagrada: \", r)\n",
    "print (\"Nagrada na korak: \", r/t)"
   ]
  },
  {
   "cell_type": "code",
   "execution_count": null,
   "metadata": {},
   "outputs": [],
   "source": [
    "from value_iteration import value_iteration_algorithm\n",
    "\n",
    "# Policy iteration\n",
    "f, t, p, r = value_iteration_algorithm(policy_val)\n",
    "play_animation(f, 1)\n",
    "print (\"\")\n",
    "print (\"Stevilo korakov: \", t)\n",
    "print (\"Stevilo kazni: \", p)\n",
    "print (\"Skupna koncna nagrada: \", r)\n",
    "print (\"Nagrada na korak: \", r/t)"
   ]
  }
 ],
 "metadata": {
  "kernelspec": {
   "display_name": "Python 3",
   "language": "python",
   "name": "python3"
  },
  "language_info": {
   "codemirror_mode": {
    "name": "ipython",
    "version": 3
   },
   "file_extension": ".py",
   "mimetype": "text/x-python",
   "name": "python",
   "nbconvert_exporter": "python",
   "pygments_lexer": "ipython3",
   "version": "3.7.6"
  }
 },
 "nbformat": 4,
 "nbformat_minor": 4
}
